{
 "cells": [
  {
   "cell_type": "code",
   "execution_count": 74,
   "id": "b64152d2",
   "metadata": {},
   "outputs": [
    {
     "name": "stdout",
     "output_type": "stream",
     "text": [
      "Using matplotlib backend: QtAgg\n"
     ]
    }
   ],
   "source": [
    "import pandas as pd\n",
    "import numpy as np\n",
    "import matplotlib.pyplot as plt\n",
    "import seaborn as sns\n",
    "%matplotlib"
   ]
  },
  {
   "cell_type": "code",
   "execution_count": 75,
   "id": "43915f26",
   "metadata": {},
   "outputs": [
    {
     "data": {
      "text/html": [
       "<div>\n",
       "<style scoped>\n",
       "    .dataframe tbody tr th:only-of-type {\n",
       "        vertical-align: middle;\n",
       "    }\n",
       "\n",
       "    .dataframe tbody tr th {\n",
       "        vertical-align: top;\n",
       "    }\n",
       "\n",
       "    .dataframe thead th {\n",
       "        text-align: right;\n",
       "    }\n",
       "</style>\n",
       "<table border=\"1\" class=\"dataframe\">\n",
       "  <thead>\n",
       "    <tr style=\"text-align: right;\">\n",
       "      <th></th>\n",
       "      <th>day</th>\n",
       "      <th>month</th>\n",
       "      <th>year</th>\n",
       "      <th>Temperature</th>\n",
       "      <th>RH</th>\n",
       "      <th>Ws</th>\n",
       "      <th>Rain</th>\n",
       "      <th>FFMC</th>\n",
       "      <th>DMC</th>\n",
       "      <th>DC</th>\n",
       "      <th>ISI</th>\n",
       "      <th>BUI</th>\n",
       "      <th>FWI</th>\n",
       "      <th>Classes</th>\n",
       "      <th>Region</th>\n",
       "    </tr>\n",
       "  </thead>\n",
       "  <tbody>\n",
       "    <tr>\n",
       "      <th>0</th>\n",
       "      <td>1</td>\n",
       "      <td>6</td>\n",
       "      <td>2012</td>\n",
       "      <td>29</td>\n",
       "      <td>57</td>\n",
       "      <td>18</td>\n",
       "      <td>0.0</td>\n",
       "      <td>65.7</td>\n",
       "      <td>3.4</td>\n",
       "      <td>7.6</td>\n",
       "      <td>1.3</td>\n",
       "      <td>3.4</td>\n",
       "      <td>0.5</td>\n",
       "      <td>not fire</td>\n",
       "      <td>0</td>\n",
       "    </tr>\n",
       "    <tr>\n",
       "      <th>1</th>\n",
       "      <td>2</td>\n",
       "      <td>6</td>\n",
       "      <td>2012</td>\n",
       "      <td>29</td>\n",
       "      <td>61</td>\n",
       "      <td>13</td>\n",
       "      <td>1.3</td>\n",
       "      <td>64.4</td>\n",
       "      <td>4.1</td>\n",
       "      <td>7.6</td>\n",
       "      <td>1.0</td>\n",
       "      <td>3.9</td>\n",
       "      <td>0.4</td>\n",
       "      <td>not fire</td>\n",
       "      <td>0</td>\n",
       "    </tr>\n",
       "    <tr>\n",
       "      <th>2</th>\n",
       "      <td>3</td>\n",
       "      <td>6</td>\n",
       "      <td>2012</td>\n",
       "      <td>26</td>\n",
       "      <td>82</td>\n",
       "      <td>22</td>\n",
       "      <td>13.1</td>\n",
       "      <td>47.1</td>\n",
       "      <td>2.5</td>\n",
       "      <td>7.1</td>\n",
       "      <td>0.3</td>\n",
       "      <td>2.7</td>\n",
       "      <td>0.1</td>\n",
       "      <td>not fire</td>\n",
       "      <td>0</td>\n",
       "    </tr>\n",
       "    <tr>\n",
       "      <th>3</th>\n",
       "      <td>4</td>\n",
       "      <td>6</td>\n",
       "      <td>2012</td>\n",
       "      <td>25</td>\n",
       "      <td>89</td>\n",
       "      <td>13</td>\n",
       "      <td>2.5</td>\n",
       "      <td>28.6</td>\n",
       "      <td>1.3</td>\n",
       "      <td>6.9</td>\n",
       "      <td>0.0</td>\n",
       "      <td>1.7</td>\n",
       "      <td>0.0</td>\n",
       "      <td>not fire</td>\n",
       "      <td>0</td>\n",
       "    </tr>\n",
       "    <tr>\n",
       "      <th>4</th>\n",
       "      <td>5</td>\n",
       "      <td>6</td>\n",
       "      <td>2012</td>\n",
       "      <td>27</td>\n",
       "      <td>77</td>\n",
       "      <td>16</td>\n",
       "      <td>0.0</td>\n",
       "      <td>64.8</td>\n",
       "      <td>3.0</td>\n",
       "      <td>14.2</td>\n",
       "      <td>1.2</td>\n",
       "      <td>3.9</td>\n",
       "      <td>0.5</td>\n",
       "      <td>not fire</td>\n",
       "      <td>0</td>\n",
       "    </tr>\n",
       "  </tbody>\n",
       "</table>\n",
       "</div>"
      ],
      "text/plain": [
       "   day  month  year  Temperature  RH  Ws  Rain  FFMC  DMC    DC  ISI  BUI  \\\n",
       "0    1      6  2012           29  57  18   0.0  65.7  3.4   7.6  1.3  3.4   \n",
       "1    2      6  2012           29  61  13   1.3  64.4  4.1   7.6  1.0  3.9   \n",
       "2    3      6  2012           26  82  22  13.1  47.1  2.5   7.1  0.3  2.7   \n",
       "3    4      6  2012           25  89  13   2.5  28.6  1.3   6.9  0.0  1.7   \n",
       "4    5      6  2012           27  77  16   0.0  64.8  3.0  14.2  1.2  3.9   \n",
       "\n",
       "   FWI      Classes  Region  \n",
       "0  0.5  not fire          0  \n",
       "1  0.4  not fire          0  \n",
       "2  0.1  not fire          0  \n",
       "3  0.0  not fire          0  \n",
       "4  0.5  not fire          0  "
      ]
     },
     "execution_count": 75,
     "metadata": {},
     "output_type": "execute_result"
    }
   ],
   "source": [
    "df=pd.read_csv('Algerian_forest_fires_clean.csv')\n",
    "df.head()"
   ]
  },
  {
   "cell_type": "code",
   "execution_count": 76,
   "id": "23df3436",
   "metadata": {},
   "outputs": [
    {
     "data": {
      "text/plain": [
       "Index(['day', 'month', 'year', 'Temperature', 'RH', 'Ws', 'Rain', 'FFMC',\n",
       "       'DMC', 'DC', 'ISI', 'BUI', 'FWI', 'Classes', 'Region'],\n",
       "      dtype='object')"
      ]
     },
     "execution_count": 76,
     "metadata": {},
     "output_type": "execute_result"
    }
   ],
   "source": [
    "df.columns"
   ]
  },
  {
   "cell_type": "code",
   "execution_count": 77,
   "id": "23d1736b",
   "metadata": {},
   "outputs": [],
   "source": [
    "#drop month day year\n",
    "df.drop(['month','day','year'],axis=True,inplace=True)"
   ]
  },
  {
   "cell_type": "code",
   "execution_count": 78,
   "id": "e9ef3a64",
   "metadata": {},
   "outputs": [],
   "source": [
    "##ENCODING\n",
    "df['Classes']=np.where(df['Classes'].str.contains('not fire'),0,1)\n"
   ]
  },
  {
   "cell_type": "code",
   "execution_count": 79,
   "id": "1fd7c15f",
   "metadata": {},
   "outputs": [
    {
     "data": {
      "text/html": [
       "<div>\n",
       "<style scoped>\n",
       "    .dataframe tbody tr th:only-of-type {\n",
       "        vertical-align: middle;\n",
       "    }\n",
       "\n",
       "    .dataframe tbody tr th {\n",
       "        vertical-align: top;\n",
       "    }\n",
       "\n",
       "    .dataframe thead th {\n",
       "        text-align: right;\n",
       "    }\n",
       "</style>\n",
       "<table border=\"1\" class=\"dataframe\">\n",
       "  <thead>\n",
       "    <tr style=\"text-align: right;\">\n",
       "      <th></th>\n",
       "      <th>Temperature</th>\n",
       "      <th>RH</th>\n",
       "      <th>Ws</th>\n",
       "      <th>Rain</th>\n",
       "      <th>FFMC</th>\n",
       "      <th>DMC</th>\n",
       "      <th>DC</th>\n",
       "      <th>ISI</th>\n",
       "      <th>BUI</th>\n",
       "      <th>FWI</th>\n",
       "      <th>Classes</th>\n",
       "      <th>Region</th>\n",
       "    </tr>\n",
       "  </thead>\n",
       "  <tbody>\n",
       "    <tr>\n",
       "      <th>0</th>\n",
       "      <td>29</td>\n",
       "      <td>57</td>\n",
       "      <td>18</td>\n",
       "      <td>0.0</td>\n",
       "      <td>65.7</td>\n",
       "      <td>3.4</td>\n",
       "      <td>7.6</td>\n",
       "      <td>1.3</td>\n",
       "      <td>3.4</td>\n",
       "      <td>0.5</td>\n",
       "      <td>0</td>\n",
       "      <td>0</td>\n",
       "    </tr>\n",
       "    <tr>\n",
       "      <th>1</th>\n",
       "      <td>29</td>\n",
       "      <td>61</td>\n",
       "      <td>13</td>\n",
       "      <td>1.3</td>\n",
       "      <td>64.4</td>\n",
       "      <td>4.1</td>\n",
       "      <td>7.6</td>\n",
       "      <td>1.0</td>\n",
       "      <td>3.9</td>\n",
       "      <td>0.4</td>\n",
       "      <td>0</td>\n",
       "      <td>0</td>\n",
       "    </tr>\n",
       "    <tr>\n",
       "      <th>2</th>\n",
       "      <td>26</td>\n",
       "      <td>82</td>\n",
       "      <td>22</td>\n",
       "      <td>13.1</td>\n",
       "      <td>47.1</td>\n",
       "      <td>2.5</td>\n",
       "      <td>7.1</td>\n",
       "      <td>0.3</td>\n",
       "      <td>2.7</td>\n",
       "      <td>0.1</td>\n",
       "      <td>0</td>\n",
       "      <td>0</td>\n",
       "    </tr>\n",
       "    <tr>\n",
       "      <th>3</th>\n",
       "      <td>25</td>\n",
       "      <td>89</td>\n",
       "      <td>13</td>\n",
       "      <td>2.5</td>\n",
       "      <td>28.6</td>\n",
       "      <td>1.3</td>\n",
       "      <td>6.9</td>\n",
       "      <td>0.0</td>\n",
       "      <td>1.7</td>\n",
       "      <td>0.0</td>\n",
       "      <td>0</td>\n",
       "      <td>0</td>\n",
       "    </tr>\n",
       "    <tr>\n",
       "      <th>4</th>\n",
       "      <td>27</td>\n",
       "      <td>77</td>\n",
       "      <td>16</td>\n",
       "      <td>0.0</td>\n",
       "      <td>64.8</td>\n",
       "      <td>3.0</td>\n",
       "      <td>14.2</td>\n",
       "      <td>1.2</td>\n",
       "      <td>3.9</td>\n",
       "      <td>0.5</td>\n",
       "      <td>0</td>\n",
       "      <td>0</td>\n",
       "    </tr>\n",
       "  </tbody>\n",
       "</table>\n",
       "</div>"
      ],
      "text/plain": [
       "   Temperature  RH  Ws  Rain  FFMC  DMC    DC  ISI  BUI  FWI  Classes  Region\n",
       "0           29  57  18   0.0  65.7  3.4   7.6  1.3  3.4  0.5        0       0\n",
       "1           29  61  13   1.3  64.4  4.1   7.6  1.0  3.9  0.4        0       0\n",
       "2           26  82  22  13.1  47.1  2.5   7.1  0.3  2.7  0.1        0       0\n",
       "3           25  89  13   2.5  28.6  1.3   6.9  0.0  1.7  0.0        0       0\n",
       "4           27  77  16   0.0  64.8  3.0  14.2  1.2  3.9  0.5        0       0"
      ]
     },
     "execution_count": 79,
     "metadata": {},
     "output_type": "execute_result"
    }
   ],
   "source": [
    "df.head()"
   ]
  },
  {
   "cell_type": "code",
   "execution_count": 80,
   "id": "52990425",
   "metadata": {},
   "outputs": [
    {
     "data": {
      "text/html": [
       "<div>\n",
       "<style scoped>\n",
       "    .dataframe tbody tr th:only-of-type {\n",
       "        vertical-align: middle;\n",
       "    }\n",
       "\n",
       "    .dataframe tbody tr th {\n",
       "        vertical-align: top;\n",
       "    }\n",
       "\n",
       "    .dataframe thead th {\n",
       "        text-align: right;\n",
       "    }\n",
       "</style>\n",
       "<table border=\"1\" class=\"dataframe\">\n",
       "  <thead>\n",
       "    <tr style=\"text-align: right;\">\n",
       "      <th></th>\n",
       "      <th>Temperature</th>\n",
       "      <th>RH</th>\n",
       "      <th>Ws</th>\n",
       "      <th>Rain</th>\n",
       "      <th>FFMC</th>\n",
       "      <th>DMC</th>\n",
       "      <th>DC</th>\n",
       "      <th>ISI</th>\n",
       "      <th>BUI</th>\n",
       "      <th>FWI</th>\n",
       "      <th>Classes</th>\n",
       "      <th>Region</th>\n",
       "    </tr>\n",
       "  </thead>\n",
       "  <tbody>\n",
       "    <tr>\n",
       "      <th>238</th>\n",
       "      <td>30</td>\n",
       "      <td>65</td>\n",
       "      <td>14</td>\n",
       "      <td>0.0</td>\n",
       "      <td>85.4</td>\n",
       "      <td>16.0</td>\n",
       "      <td>44.5</td>\n",
       "      <td>4.5</td>\n",
       "      <td>16.9</td>\n",
       "      <td>6.5</td>\n",
       "      <td>1</td>\n",
       "      <td>1</td>\n",
       "    </tr>\n",
       "    <tr>\n",
       "      <th>239</th>\n",
       "      <td>28</td>\n",
       "      <td>87</td>\n",
       "      <td>15</td>\n",
       "      <td>4.4</td>\n",
       "      <td>41.1</td>\n",
       "      <td>6.5</td>\n",
       "      <td>8.0</td>\n",
       "      <td>0.1</td>\n",
       "      <td>6.2</td>\n",
       "      <td>0.0</td>\n",
       "      <td>0</td>\n",
       "      <td>1</td>\n",
       "    </tr>\n",
       "    <tr>\n",
       "      <th>240</th>\n",
       "      <td>27</td>\n",
       "      <td>87</td>\n",
       "      <td>29</td>\n",
       "      <td>0.5</td>\n",
       "      <td>45.9</td>\n",
       "      <td>3.5</td>\n",
       "      <td>7.9</td>\n",
       "      <td>0.4</td>\n",
       "      <td>3.4</td>\n",
       "      <td>0.2</td>\n",
       "      <td>0</td>\n",
       "      <td>1</td>\n",
       "    </tr>\n",
       "    <tr>\n",
       "      <th>241</th>\n",
       "      <td>24</td>\n",
       "      <td>54</td>\n",
       "      <td>18</td>\n",
       "      <td>0.1</td>\n",
       "      <td>79.7</td>\n",
       "      <td>4.3</td>\n",
       "      <td>15.2</td>\n",
       "      <td>1.7</td>\n",
       "      <td>5.1</td>\n",
       "      <td>0.7</td>\n",
       "      <td>0</td>\n",
       "      <td>1</td>\n",
       "    </tr>\n",
       "    <tr>\n",
       "      <th>242</th>\n",
       "      <td>24</td>\n",
       "      <td>64</td>\n",
       "      <td>15</td>\n",
       "      <td>0.2</td>\n",
       "      <td>67.3</td>\n",
       "      <td>3.8</td>\n",
       "      <td>16.5</td>\n",
       "      <td>1.2</td>\n",
       "      <td>4.8</td>\n",
       "      <td>0.5</td>\n",
       "      <td>0</td>\n",
       "      <td>1</td>\n",
       "    </tr>\n",
       "  </tbody>\n",
       "</table>\n",
       "</div>"
      ],
      "text/plain": [
       "     Temperature  RH  Ws  Rain  FFMC   DMC    DC  ISI   BUI  FWI  Classes  \\\n",
       "238           30  65  14   0.0  85.4  16.0  44.5  4.5  16.9  6.5        1   \n",
       "239           28  87  15   4.4  41.1   6.5   8.0  0.1   6.2  0.0        0   \n",
       "240           27  87  29   0.5  45.9   3.5   7.9  0.4   3.4  0.2        0   \n",
       "241           24  54  18   0.1  79.7   4.3  15.2  1.7   5.1  0.7        0   \n",
       "242           24  64  15   0.2  67.3   3.8  16.5  1.2   4.8  0.5        0   \n",
       "\n",
       "     Region  \n",
       "238       1  \n",
       "239       1  \n",
       "240       1  \n",
       "241       1  \n",
       "242       1  "
      ]
     },
     "execution_count": 80,
     "metadata": {},
     "output_type": "execute_result"
    }
   ],
   "source": [
    "df.tail()"
   ]
  },
  {
   "cell_type": "code",
   "execution_count": 81,
   "id": "f6f1736a",
   "metadata": {},
   "outputs": [
    {
     "data": {
      "text/plain": [
       "1    137\n",
       "0    106\n",
       "Name: Classes, dtype: int64"
      ]
     },
     "execution_count": 81,
     "metadata": {},
     "output_type": "execute_result"
    }
   ],
   "source": [
    "df['Classes'].value_counts()"
   ]
  },
  {
   "cell_type": "markdown",
   "id": "0662e6f8",
   "metadata": {},
   "source": [
    "#### Dividing features into dependent and independent"
   ]
  },
  {
   "cell_type": "code",
   "execution_count": 82,
   "id": "94623255",
   "metadata": {},
   "outputs": [],
   "source": [
    "x=df.drop('FWI',axis=1)\n",
    "y=df['FWI']"
   ]
  },
  {
   "cell_type": "code",
   "execution_count": 83,
   "id": "6a49f282",
   "metadata": {},
   "outputs": [
    {
     "data": {
      "text/html": [
       "<div>\n",
       "<style scoped>\n",
       "    .dataframe tbody tr th:only-of-type {\n",
       "        vertical-align: middle;\n",
       "    }\n",
       "\n",
       "    .dataframe tbody tr th {\n",
       "        vertical-align: top;\n",
       "    }\n",
       "\n",
       "    .dataframe thead th {\n",
       "        text-align: right;\n",
       "    }\n",
       "</style>\n",
       "<table border=\"1\" class=\"dataframe\">\n",
       "  <thead>\n",
       "    <tr style=\"text-align: right;\">\n",
       "      <th></th>\n",
       "      <th>Temperature</th>\n",
       "      <th>RH</th>\n",
       "      <th>Ws</th>\n",
       "      <th>Rain</th>\n",
       "      <th>FFMC</th>\n",
       "      <th>DMC</th>\n",
       "      <th>DC</th>\n",
       "      <th>ISI</th>\n",
       "      <th>BUI</th>\n",
       "      <th>Classes</th>\n",
       "      <th>Region</th>\n",
       "    </tr>\n",
       "  </thead>\n",
       "  <tbody>\n",
       "    <tr>\n",
       "      <th>0</th>\n",
       "      <td>29</td>\n",
       "      <td>57</td>\n",
       "      <td>18</td>\n",
       "      <td>0.0</td>\n",
       "      <td>65.7</td>\n",
       "      <td>3.4</td>\n",
       "      <td>7.6</td>\n",
       "      <td>1.3</td>\n",
       "      <td>3.4</td>\n",
       "      <td>0</td>\n",
       "      <td>0</td>\n",
       "    </tr>\n",
       "    <tr>\n",
       "      <th>1</th>\n",
       "      <td>29</td>\n",
       "      <td>61</td>\n",
       "      <td>13</td>\n",
       "      <td>1.3</td>\n",
       "      <td>64.4</td>\n",
       "      <td>4.1</td>\n",
       "      <td>7.6</td>\n",
       "      <td>1.0</td>\n",
       "      <td>3.9</td>\n",
       "      <td>0</td>\n",
       "      <td>0</td>\n",
       "    </tr>\n",
       "    <tr>\n",
       "      <th>2</th>\n",
       "      <td>26</td>\n",
       "      <td>82</td>\n",
       "      <td>22</td>\n",
       "      <td>13.1</td>\n",
       "      <td>47.1</td>\n",
       "      <td>2.5</td>\n",
       "      <td>7.1</td>\n",
       "      <td>0.3</td>\n",
       "      <td>2.7</td>\n",
       "      <td>0</td>\n",
       "      <td>0</td>\n",
       "    </tr>\n",
       "    <tr>\n",
       "      <th>3</th>\n",
       "      <td>25</td>\n",
       "      <td>89</td>\n",
       "      <td>13</td>\n",
       "      <td>2.5</td>\n",
       "      <td>28.6</td>\n",
       "      <td>1.3</td>\n",
       "      <td>6.9</td>\n",
       "      <td>0.0</td>\n",
       "      <td>1.7</td>\n",
       "      <td>0</td>\n",
       "      <td>0</td>\n",
       "    </tr>\n",
       "    <tr>\n",
       "      <th>4</th>\n",
       "      <td>27</td>\n",
       "      <td>77</td>\n",
       "      <td>16</td>\n",
       "      <td>0.0</td>\n",
       "      <td>64.8</td>\n",
       "      <td>3.0</td>\n",
       "      <td>14.2</td>\n",
       "      <td>1.2</td>\n",
       "      <td>3.9</td>\n",
       "      <td>0</td>\n",
       "      <td>0</td>\n",
       "    </tr>\n",
       "  </tbody>\n",
       "</table>\n",
       "</div>"
      ],
      "text/plain": [
       "   Temperature  RH  Ws  Rain  FFMC  DMC    DC  ISI  BUI  Classes  Region\n",
       "0           29  57  18   0.0  65.7  3.4   7.6  1.3  3.4        0       0\n",
       "1           29  61  13   1.3  64.4  4.1   7.6  1.0  3.9        0       0\n",
       "2           26  82  22  13.1  47.1  2.5   7.1  0.3  2.7        0       0\n",
       "3           25  89  13   2.5  28.6  1.3   6.9  0.0  1.7        0       0\n",
       "4           27  77  16   0.0  64.8  3.0  14.2  1.2  3.9        0       0"
      ]
     },
     "execution_count": 83,
     "metadata": {},
     "output_type": "execute_result"
    }
   ],
   "source": [
    "x.head()"
   ]
  },
  {
   "cell_type": "code",
   "execution_count": 84,
   "id": "71368154",
   "metadata": {},
   "outputs": [
    {
     "data": {
      "text/plain": [
       "0    0.5\n",
       "1    0.4\n",
       "2    0.1\n",
       "3    0.0\n",
       "4    0.5\n",
       "Name: FWI, dtype: float64"
      ]
     },
     "execution_count": 84,
     "metadata": {},
     "output_type": "execute_result"
    }
   ],
   "source": [
    "y.head()"
   ]
  },
  {
   "cell_type": "code",
   "execution_count": 85,
   "id": "4d5c3b38",
   "metadata": {},
   "outputs": [],
   "source": [
    "from sklearn.model_selection import train_test_split\n",
    "x_train,x_test,y_train,y_test=train_test_split(x,y,test_size=0.3,random_state=42)"
   ]
  },
  {
   "cell_type": "markdown",
   "id": "30fbbdac",
   "metadata": {},
   "source": [
    "### feature selection based on corelation\n"
   ]
  },
  {
   "cell_type": "code",
   "execution_count": 86,
   "id": "b2b3af0c",
   "metadata": {},
   "outputs": [
    {
     "data": {
      "text/plain": [
       "<Axes: >"
      ]
     },
     "execution_count": 86,
     "metadata": {},
     "output_type": "execute_result"
    }
   ],
   "source": [
    "##checking multi collinearity\n",
    "plt.figure(figsize=(12,10))\n",
    "corr=x_train.corr()\n",
    "sns.heatmap(corr,annot=True)"
   ]
  },
  {
   "cell_type": "code",
   "execution_count": 87,
   "id": "f9cfe2c9",
   "metadata": {},
   "outputs": [],
   "source": [
    "def correlation(dataset, threshold):\n",
    "    col_corr = set()\n",
    "    corr_matrix = dataset.corr()\n",
    "    for i in range(len(corr_matrix.columns)):\n",
    "        for j in range(i):\n",
    "            if abs(corr_matrix.iloc[i, j]) > threshold: \n",
    "                colname = corr_matrix.columns[i]\n",
    "                col_corr.add(colname)\n",
    "    return col_corr"
   ]
  },
  {
   "cell_type": "code",
   "execution_count": 90,
   "id": "6d512bbb",
   "metadata": {},
   "outputs": [],
   "source": [
    "corr_features=correlation(x_train,0.85)"
   ]
  },
  {
   "cell_type": "code",
   "execution_count": null,
   "id": "3af92421",
   "metadata": {},
   "outputs": [],
   "source": [
    "#droping features when correlation is more than 0.85\n",
    "x_train.drop(corr_features,axis=1,inplace=True)\n",
    "x_test.drop(corr_features,axis=1,inplace=True)\n"
   ]
  },
  {
   "cell_type": "code",
   "execution_count": 93,
   "id": "9504d744",
   "metadata": {},
   "outputs": [
    {
     "data": {
      "text/plain": [
       "((73, 9), (170, 9))"
      ]
     },
     "execution_count": 93,
     "metadata": {},
     "output_type": "execute_result"
    }
   ],
   "source": [
    "x_test.shape,x_train.shape"
   ]
  },
  {
   "cell_type": "markdown",
   "id": "091da7a3",
   "metadata": {},
   "source": [
    "#### feature scaling "
   ]
  },
  {
   "cell_type": "code",
   "execution_count": 94,
   "id": "f5cd8416",
   "metadata": {},
   "outputs": [],
   "source": [
    "from sklearn.preprocessing import StandardScaler\n",
    "scaler=StandardScaler()\n",
    "x_train_scaled=scaler.fit_transform(x_train)\n",
    "x_test_scaled=scaler.transform(x_test)"
   ]
  },
  {
   "cell_type": "code",
   "execution_count": 95,
   "id": "30e7ba55",
   "metadata": {},
   "outputs": [
    {
     "data": {
      "text/plain": [
       "array([[ 0.26131696, -0.86261203, -0.59170487, ...,  0.57277215,\n",
       "         0.90992142, -1.        ],\n",
       "       [-1.64645715,  1.16565969,  0.17323679, ..., -1.03570698,\n",
       "        -1.098996  , -1.        ],\n",
       "       [-0.0112222 , -0.5921758 , -1.73911734, ..., -0.82590535,\n",
       "        -1.098996  , -1.        ],\n",
       "       ...,\n",
       "       [-1.91899631,  0.89522346,  0.55570761, ..., -1.05901827,\n",
       "        -1.098996  , -1.        ],\n",
       "       [ 0.53385612, -0.25413052,  0.17323679, ...,  0.61939473,\n",
       "         0.90992142,  1.        ],\n",
       "       [-0.55630052,  0.96283252,  2.08559091, ..., -0.84921665,\n",
       "        -1.098996  , -1.        ]])"
      ]
     },
     "execution_count": 95,
     "metadata": {},
     "output_type": "execute_result"
    }
   ],
   "source": [
    "x_train_scaled"
   ]
  },
  {
   "cell_type": "markdown",
   "id": "dcad27f6",
   "metadata": {},
   "source": [
    "#### box plots for scaler and non scaler data"
   ]
  },
  {
   "cell_type": "code",
   "execution_count": 103,
   "id": "a20321a1",
   "metadata": {},
   "outputs": [
    {
     "data": {
      "text/plain": [
       "Text(0.5, 1.0, 'X_train After Scaling')"
      ]
     },
     "execution_count": 103,
     "metadata": {},
     "output_type": "execute_result"
    }
   ],
   "source": [
    "plt.subplots(figsize=(15, 5))\n",
    "plt.subplot(1, 2, 1)\n",
    "sns.boxplot(data=x_train)\n",
    "plt.title('X_train Before Scaling')\n",
    "plt.subplot(1, 2, 2)\n",
    "sns.boxplot(data=x_train_scaled)\n",
    "plt.title('X_train After Scaling')"
   ]
  },
  {
   "cell_type": "markdown",
   "id": "e1e89869",
   "metadata": {},
   "source": [
    "### Linear Regression model"
   ]
  },
  {
   "cell_type": "code",
   "execution_count": 104,
   "id": "eb62a065",
   "metadata": {},
   "outputs": [
    {
     "name": "stdout",
     "output_type": "stream",
     "text": [
      "Mean absolute error 0.5648036371485076\n",
      "R2 Score 0.9847206874554418\n"
     ]
    },
    {
     "data": {
      "text/plain": [
       "<matplotlib.collections.PathCollection at 0x1752e153d50>"
      ]
     },
     "execution_count": 104,
     "metadata": {},
     "output_type": "execute_result"
    }
   ],
   "source": [
    "from sklearn.linear_model import LinearRegression\n",
    "from sklearn.metrics import mean_absolute_error\n",
    "from sklearn.metrics import r2_score\n",
    "linreg=LinearRegression()\n",
    "linreg.fit(x_train_scaled,y_train)\n",
    "y_pred=linreg.predict(x_test_scaled)\n",
    "mae=mean_absolute_error(y_test,y_pred)\n",
    "score=r2_score(y_test,y_pred)\n",
    "print(\"Mean absolute error\", mae)\n",
    "print(\"R2 Score\", score)\n",
    "plt.scatter(y_test,y_pred)"
   ]
  },
  {
   "cell_type": "markdown",
   "id": "cb3be66e",
   "metadata": {},
   "source": [
    "#### Lasso Regression"
   ]
  },
  {
   "cell_type": "code",
   "execution_count": 106,
   "id": "572f43bd",
   "metadata": {},
   "outputs": [
    {
     "name": "stdout",
     "output_type": "stream",
     "text": [
      "Mean absolute error 1.1203368882393199\n",
      "R2 Score 0.9511364350928344\n"
     ]
    },
    {
     "data": {
      "text/plain": [
       "<matplotlib.collections.PathCollection at 0x1752aef7190>"
      ]
     },
     "execution_count": 106,
     "metadata": {},
     "output_type": "execute_result"
    }
   ],
   "source": [
    "from sklearn.linear_model import Lasso\n",
    "from sklearn.metrics import mean_absolute_error\n",
    "from sklearn.metrics import r2_score\n",
    "lasso=Lasso()\n",
    "lasso.fit(x_train_scaled,y_train)\n",
    "y_pred=lasso.predict(x_test_scaled)\n",
    "mae=mean_absolute_error(y_test,y_pred)\n",
    "score=r2_score(y_test,y_pred)\n",
    "print(\"Mean absolute error\", mae)\n",
    "print(\"R2 Score\", score)\n",
    "plt.scatter(y_test,y_pred)"
   ]
  },
  {
   "cell_type": "code",
   "execution_count": 107,
   "id": "2e3fe482",
   "metadata": {},
   "outputs": [
    {
     "data": {
      "text/html": [
       "<style>#sk-container-id-1 {color: black;background-color: white;}#sk-container-id-1 pre{padding: 0;}#sk-container-id-1 div.sk-toggleable {background-color: white;}#sk-container-id-1 label.sk-toggleable__label {cursor: pointer;display: block;width: 100%;margin-bottom: 0;padding: 0.3em;box-sizing: border-box;text-align: center;}#sk-container-id-1 label.sk-toggleable__label-arrow:before {content: \"▸\";float: left;margin-right: 0.25em;color: #696969;}#sk-container-id-1 label.sk-toggleable__label-arrow:hover:before {color: black;}#sk-container-id-1 div.sk-estimator:hover label.sk-toggleable__label-arrow:before {color: black;}#sk-container-id-1 div.sk-toggleable__content {max-height: 0;max-width: 0;overflow: hidden;text-align: left;background-color: #f0f8ff;}#sk-container-id-1 div.sk-toggleable__content pre {margin: 0.2em;color: black;border-radius: 0.25em;background-color: #f0f8ff;}#sk-container-id-1 input.sk-toggleable__control:checked~div.sk-toggleable__content {max-height: 200px;max-width: 100%;overflow: auto;}#sk-container-id-1 input.sk-toggleable__control:checked~label.sk-toggleable__label-arrow:before {content: \"▾\";}#sk-container-id-1 div.sk-estimator input.sk-toggleable__control:checked~label.sk-toggleable__label {background-color: #d4ebff;}#sk-container-id-1 div.sk-label input.sk-toggleable__control:checked~label.sk-toggleable__label {background-color: #d4ebff;}#sk-container-id-1 input.sk-hidden--visually {border: 0;clip: rect(1px 1px 1px 1px);clip: rect(1px, 1px, 1px, 1px);height: 1px;margin: -1px;overflow: hidden;padding: 0;position: absolute;width: 1px;}#sk-container-id-1 div.sk-estimator {font-family: monospace;background-color: #f0f8ff;border: 1px dotted black;border-radius: 0.25em;box-sizing: border-box;margin-bottom: 0.5em;}#sk-container-id-1 div.sk-estimator:hover {background-color: #d4ebff;}#sk-container-id-1 div.sk-parallel-item::after {content: \"\";width: 100%;border-bottom: 1px solid gray;flex-grow: 1;}#sk-container-id-1 div.sk-label:hover label.sk-toggleable__label {background-color: #d4ebff;}#sk-container-id-1 div.sk-serial::before {content: \"\";position: absolute;border-left: 1px solid gray;box-sizing: border-box;top: 0;bottom: 0;left: 50%;z-index: 0;}#sk-container-id-1 div.sk-serial {display: flex;flex-direction: column;align-items: center;background-color: white;padding-right: 0.2em;padding-left: 0.2em;position: relative;}#sk-container-id-1 div.sk-item {position: relative;z-index: 1;}#sk-container-id-1 div.sk-parallel {display: flex;align-items: stretch;justify-content: center;background-color: white;position: relative;}#sk-container-id-1 div.sk-item::before, #sk-container-id-1 div.sk-parallel-item::before {content: \"\";position: absolute;border-left: 1px solid gray;box-sizing: border-box;top: 0;bottom: 0;left: 50%;z-index: -1;}#sk-container-id-1 div.sk-parallel-item {display: flex;flex-direction: column;z-index: 1;position: relative;background-color: white;}#sk-container-id-1 div.sk-parallel-item:first-child::after {align-self: flex-end;width: 50%;}#sk-container-id-1 div.sk-parallel-item:last-child::after {align-self: flex-start;width: 50%;}#sk-container-id-1 div.sk-parallel-item:only-child::after {width: 0;}#sk-container-id-1 div.sk-dashed-wrapped {border: 1px dashed gray;margin: 0 0.4em 0.5em 0.4em;box-sizing: border-box;padding-bottom: 0.4em;background-color: white;}#sk-container-id-1 div.sk-label label {font-family: monospace;font-weight: bold;display: inline-block;line-height: 1.2em;}#sk-container-id-1 div.sk-label-container {text-align: center;}#sk-container-id-1 div.sk-container {/* jupyter's `normalize.less` sets `[hidden] { display: none; }` but bootstrap.min.css set `[hidden] { display: none !important; }` so we also need the `!important` here to be able to override the default hidden behavior on the sphinx rendered scikit-learn.org. See: https://github.com/scikit-learn/scikit-learn/issues/21755 */display: inline-block !important;position: relative;}#sk-container-id-1 div.sk-text-repr-fallback {display: none;}</style><div id=\"sk-container-id-1\" class=\"sk-top-container\"><div class=\"sk-text-repr-fallback\"><pre>LassoCV(cv=5)</pre><b>In a Jupyter environment, please rerun this cell to show the HTML representation or trust the notebook. <br />On GitHub, the HTML representation is unable to render, please try loading this page with nbviewer.org.</b></div><div class=\"sk-container\" hidden><div class=\"sk-item\"><div class=\"sk-estimator sk-toggleable\"><input class=\"sk-toggleable__control sk-hidden--visually\" id=\"sk-estimator-id-1\" type=\"checkbox\" checked><label for=\"sk-estimator-id-1\" class=\"sk-toggleable__label sk-toggleable__label-arrow\">LassoCV</label><div class=\"sk-toggleable__content\"><pre>LassoCV(cv=5)</pre></div></div></div></div></div>"
      ],
      "text/plain": [
       "LassoCV(cv=5)"
      ]
     },
     "execution_count": 107,
     "metadata": {},
     "output_type": "execute_result"
    }
   ],
   "source": [
    "from sklearn.linear_model import LassoCV\n",
    "lassocv=LassoCV(cv=5)\n",
    "lassocv.fit(x_train_scaled,y_train)"
   ]
  },
  {
   "cell_type": "code",
   "execution_count": 108,
   "id": "18a39ac1",
   "metadata": {},
   "outputs": [
    {
     "data": {
      "text/plain": [
       "array([ 8.16397207,  7.67804744, -0.25189771,  4.77987505,  6.78091283,\n",
       "        1.81614639,  2.22578301,  7.63488733,  2.02410339,  3.44451117,\n",
       "        0.66242944,  9.99905308,  9.35795141, 16.96297721, 18.25149952,\n",
       "        1.66970735,  1.61943284, -0.74666772,  7.27602907,  3.10770548,\n",
       "        2.01253998,  0.16535072,  6.47186084,  0.12797246, 20.96857542,\n",
       "        5.11509091,  5.85109963,  9.74520405, -0.89721414,  9.90860031,\n",
       "        6.7060563 , -0.30293842, 10.29361523, 14.41049039,  1.76750782,\n",
       "        0.88833515,  2.01997732,  5.96647081, -0.68302491, -0.62508115,\n",
       "        6.45233271,  2.14437167,  8.46063792, -0.94632281, 15.39177571,\n",
       "        8.31767104,  8.47395999,  1.44833946, 13.01341005,  1.22369685,\n",
       "       29.03757686,  5.49338626, 17.13273437, 19.25389134, 13.68892486,\n",
       "       16.02178729,  1.0354206 ,  9.07993294,  3.8419495 , 14.42765364,\n",
       "        5.22475186,  1.16678645, -0.43979232, 21.8126402 ,  3.43931301,\n",
       "        1.79083669,  9.64615263,  6.96670663, 10.28790792, -0.86499899,\n",
       "        8.06348915, 12.41660617, 15.08943866])"
      ]
     },
     "execution_count": 108,
     "metadata": {},
     "output_type": "execute_result"
    }
   ],
   "source": [
    "lassocv.predict(x_test_scaled)"
   ]
  },
  {
   "cell_type": "code",
   "execution_count": 110,
   "id": "98730262",
   "metadata": {},
   "outputs": [
    {
     "data": {
      "text/plain": [
       "0.06177603120682054"
      ]
     },
     "execution_count": 110,
     "metadata": {},
     "output_type": "execute_result"
    }
   ],
   "source": [
    "lassocv.alpha_"
   ]
  },
  {
   "cell_type": "code",
   "execution_count": 111,
   "id": "ae877321",
   "metadata": {},
   "outputs": [
    {
     "data": {
      "text/plain": [
       "array([7.1027424 , 6.62404134, 6.17760312, 5.76125335, 5.37296415,\n",
       "       5.01084435, 4.67313021, 4.35817688, 4.06445034, 3.79051999,\n",
       "       3.53505163, 3.29680098, 3.07460763, 2.86738937, 2.67413692,\n",
       "       2.49390904, 2.32582792, 2.1690749 , 2.02288651, 1.88655073,\n",
       "       1.75940353, 1.64082562, 1.53023946, 1.42710644, 1.33092425,\n",
       "       1.24122441, 1.15757004, 1.07955369, 1.00679538, 0.93894074,\n",
       "       0.87565928, 0.81664278, 0.76160379, 0.71027424, 0.66240413,\n",
       "       0.61776031, 0.57612533, 0.53729642, 0.50108444, 0.46731302,\n",
       "       0.43581769, 0.40644503, 0.379052  , 0.35350516, 0.3296801 ,\n",
       "       0.30746076, 0.28673894, 0.26741369, 0.2493909 , 0.23258279,\n",
       "       0.21690749, 0.20228865, 0.18865507, 0.17594035, 0.16408256,\n",
       "       0.15302395, 0.14271064, 0.13309242, 0.12412244, 0.115757  ,\n",
       "       0.10795537, 0.10067954, 0.09389407, 0.08756593, 0.08166428,\n",
       "       0.07616038, 0.07102742, 0.06624041, 0.06177603, 0.05761253,\n",
       "       0.05372964, 0.05010844, 0.0467313 , 0.04358177, 0.0406445 ,\n",
       "       0.0379052 , 0.03535052, 0.03296801, 0.03074608, 0.02867389,\n",
       "       0.02674137, 0.02493909, 0.02325828, 0.02169075, 0.02022887,\n",
       "       0.01886551, 0.01759404, 0.01640826, 0.01530239, 0.01427106,\n",
       "       0.01330924, 0.01241224, 0.0115757 , 0.01079554, 0.01006795,\n",
       "       0.00938941, 0.00875659, 0.00816643, 0.00761604, 0.00710274])"
      ]
     },
     "execution_count": 111,
     "metadata": {},
     "output_type": "execute_result"
    }
   ],
   "source": [
    "lassocv.alphas_"
   ]
  },
  {
   "cell_type": "code",
   "execution_count": 112,
   "id": "7b8b91bb",
   "metadata": {},
   "outputs": [
    {
     "data": {
      "text/plain": [
       "array([[50.65386968, 76.54197718, 42.60540011, 85.19903601, 37.22447771],\n",
       "       [44.75111814, 74.82132255, 38.341692  , 85.19903601, 33.05643554],\n",
       "       [39.36934038, 67.35349762, 32.91718118, 77.16947646, 28.98441557],\n",
       "       [34.66809152, 60.76849885, 28.30179163, 70.00628728, 25.07891899],\n",
       "       [30.56005987, 54.39656706, 24.38332378, 63.69553448, 21.70030699],\n",
       "       [26.96916466, 47.86216351, 21.06462063, 58.13161794, 18.77862509],\n",
       "       [23.82945553, 42.15575307, 18.26138649, 53.22232605, 16.25301222],\n",
       "       [21.08318369, 37.17090521, 15.90095328, 46.89293347, 14.07124316],\n",
       "       [18.68014904, 32.81473426, 13.92043855, 41.32635877, 12.18732916],\n",
       "       [16.57661964, 29.00744813, 12.26540003, 36.4658746 , 10.56155236],\n",
       "       [14.73438066, 25.67846082, 10.88893934, 32.22081976,  9.15943046],\n",
       "       [13.12047322, 22.76665973,  9.75047302, 28.5122238 ,  7.95103045],\n",
       "       [11.70583482, 20.21881242,  8.81511714, 25.27132199,  6.9102242 ],\n",
       "       [10.46524798, 17.98854548,  8.05270156, 22.43755884,  6.01478795],\n",
       "       [ 9.3767302 , 16.03510498,  7.43725597, 19.96021847,  5.24498166],\n",
       "       [ 8.42111585, 14.32403577,  6.94642496, 17.79310065,  4.58383524],\n",
       "       [ 7.58169241, 12.82425291,  6.56076348, 15.89663692,  4.01663006],\n",
       "       [ 6.84378852, 11.50901635,  6.26417786, 14.23635715,  3.53060271],\n",
       "       [ 6.19489185, 10.35501678,  6.04228232, 12.78222819,  3.11468778],\n",
       "       [ 5.62379959,  9.34193186,  5.88291763, 11.50807956,  2.75923473],\n",
       "       [ 5.12083007,  8.4520405 ,  5.77567262, 10.39110361,  2.45606851],\n",
       "       [ 4.6775323 ,  7.66988713,  5.71164494,  9.41101171,  2.19791083],\n",
       "       [ 4.28652763,  6.98198949,  5.68282488,  8.55134909,  1.97852702],\n",
       "       [ 3.94137191,  6.37637486,  5.68356125,  7.79653235,  1.79251976],\n",
       "       [ 3.63643564,  5.84322598,  5.70793084,  7.13338426,  1.63521811],\n",
       "       [ 3.3667288 ,  5.37333938,  5.75125449,  6.55041287,  1.50258134],\n",
       "       [ 3.12810133,  4.95889114,  5.80957204,  6.03759288,  1.39111535],\n",
       "       [ 2.91671292,  4.59304889,  5.87953968,  5.58617663,  1.29780014],\n",
       "       [ 2.7292744 ,  4.269844  ,  5.95834284,  5.18852959,  1.22006541],\n",
       "       [ 2.56290779,  3.98406084,  6.04304011,  4.83776003,  1.15558641],\n",
       "       [ 2.41509369,  3.73114033,  6.13284358,  4.52853764,  1.10245117],\n",
       "       [ 2.2836257 ,  3.50709599,  6.22551676,  4.25551426,  1.05898386],\n",
       "       [ 2.16657063,  3.30844077,  6.31969998,  4.01424839,  1.02374009],\n",
       "       [ 2.06223389,  3.13212334,  6.41428122,  3.80085995,  0.99547607],\n",
       "       [ 1.96912929,  2.975395  ,  6.50835501,  3.61195699,  0.97312165],\n",
       "       [ 1.88591176,  2.83608443,  6.60119138,  3.44457322,  0.95575694],\n",
       "       [ 1.81152305,  2.71205029,  6.69220907,  3.29611371,  0.94259196],\n",
       "       [ 1.7449114 ,  2.60149572,  6.78025841,  3.1643075 ,  0.93305331],\n",
       "       [ 1.6851924 ,  2.50284535,  6.86640694,  3.04716636,  0.92635079],\n",
       "       [ 1.63158848,  2.41471684,  6.94968077,  2.94288818,  0.92209123],\n",
       "       [ 1.58341525,  2.33589657,  7.02988293,  2.85008221,  0.91985177],\n",
       "       [ 1.54006992,  2.26531843,  7.10688936,  2.76733453,  0.91927054],\n",
       "       [ 1.50102114,  2.2020453 ,  7.18062765,  2.6934711 ,  0.92003946],\n",
       "       [ 1.46580022,  2.14525292,  7.25106772,  2.62746236,  0.92189678],\n",
       "       [ 1.43399338,  2.09146032,  7.31821416,  2.57171983,  0.92462063],\n",
       "       [ 1.40523503,  2.04155418,  7.38131969,  2.52326974,  0.92802343],\n",
       "       [ 1.37076952,  1.99831894,  7.44202559,  2.47995369,  0.93194709],\n",
       "       [ 1.33072547,  1.96088078,  7.48954928,  2.44113376,  0.92065028],\n",
       "       [ 1.29537536,  1.92847417,  7.51739731,  2.4063046 ,  0.90680996],\n",
       "       [ 1.26413   ,  1.90043536,  7.54475786,  2.37501833,  0.89516176],\n",
       "       [ 1.23652857,  1.87618277,  7.57123268,  2.34648662,  0.88556688],\n",
       "       [ 1.21210634,  1.85521422,  7.59675295,  2.30686615,  0.87913838],\n",
       "       [ 1.19047711,  1.83709352,  7.62047378,  2.25026018,  0.87827158],\n",
       "       [ 1.17130323,  1.82144187,  7.67521009,  2.19914643,  0.87828243],\n",
       "       [ 1.15428928,  1.80793034,  7.73423162,  2.15313423,  0.87898787],\n",
       "       [ 1.13917667,  1.79711699,  7.79331311,  2.1116616 ,  0.8802503 ],\n",
       "       [ 1.12573897,  1.78833991,  7.85180451,  2.0741414 ,  0.88195343],\n",
       "       [ 1.11377779,  1.78091413,  7.90930472,  2.0404345 ,  0.88399907],\n",
       "       [ 1.10311927,  1.77464066,  7.96549618,  2.01158697,  0.88684576],\n",
       "       [ 1.08880522,  1.76935739,  8.02013278,  1.98748924,  0.89031494],\n",
       "       [ 1.06171393,  1.75144143,  8.07193416,  1.96260932,  0.8830618 ],\n",
       "       [ 1.03759698,  1.72505717,  8.12302787,  1.92370629,  0.86024755],\n",
       "       [ 1.01602844,  1.70105768,  8.17214206,  1.88944038,  0.84087925],\n",
       "       [ 0.99517851,  1.67980084,  8.21922395,  1.85874043,  0.82405265],\n",
       "       [ 0.9709098 ,  1.66068275,  8.26424417,  1.83175149,  0.80957379],\n",
       "       [ 0.94951972,  1.64347143,  8.30719688,  1.8077493 ,  0.79707154],\n",
       "       [ 0.93038547,  1.62795778,  8.34809553,  1.78638214,  0.78627821],\n",
       "       [ 0.91342363,  1.61395735,  8.38639903,  1.76733991,  0.77914977],\n",
       "       [ 0.89827197,  1.60226413,  8.43348948,  1.75034908,  0.77446166],\n",
       "       [ 0.88520125,  1.59248487,  8.47784684,  1.73513069,  0.77059481],\n",
       "       [ 0.8736529 ,  1.58378582,  8.51856428,  1.72146466,  0.76779725],\n",
       "       [ 0.86349975,  1.57604055,  8.55826482,  1.70901167,  0.76570751],\n",
       "       [ 0.85456938,  1.56913717,  8.59544711,  1.69793893,  0.7639983 ],\n",
       "       [ 0.84663426,  1.56281003,  8.63115885,  1.68818421,  0.7630068 ],\n",
       "       [ 0.83971606,  1.55731942,  8.65816061,  1.67947256,  0.76242516],\n",
       "       [ 0.83361019,  1.55240766,  8.68135507,  1.67177643,  0.76197344],\n",
       "       [ 0.82832294,  1.54783162,  8.70321124,  1.66490768,  0.7620127 ],\n",
       "       [ 0.82374183,  1.54390185,  8.7235485 ,  1.65880612,  0.76227784],\n",
       "       [ 0.81968665,  1.54037476,  8.74268312,  1.6533824 ,  0.76252423],\n",
       "       [ 0.81610083,  1.53702335,  8.76067844,  1.64854233,  0.76311259],\n",
       "       [ 0.81300023,  1.53533184,  8.77805748,  1.64421636,  0.76362311],\n",
       "       [ 0.81027315,  1.53438102,  8.79461584,  1.64032742,  0.76440693],\n",
       "       [ 0.80786027,  1.53344536,  8.80984915,  1.63737598,  0.76507968],\n",
       "       [ 0.80572404,  1.53288388,  8.82390249,  1.63586523,  0.76563159],\n",
       "       [ 0.80377027,  1.53224229,  8.83707918,  1.63452006,  0.76682757],\n",
       "       [ 0.80218203,  1.53193327,  8.84854818,  1.63350829,  0.76754218],\n",
       "       [ 0.80092858,  1.53150574,  8.85922632,  1.63258469,  0.76840181],\n",
       "       [ 0.80009599,  1.53136684,  8.86999195,  1.63185912,  0.7697855 ],\n",
       "       [ 0.79949966,  1.53141151,  8.87984323,  1.63128466,  0.77082697],\n",
       "       [ 0.79903781,  1.53110813,  8.88904904,  1.63092641,  0.77222413],\n",
       "       [ 0.79861021,  1.53078192,  8.89719625,  1.63055457,  0.77339749],\n",
       "       [ 0.79833283,  1.53054503,  8.90560663,  1.63028882,  0.77458874],\n",
       "       [ 0.79815844,  1.53026491,  8.91327929,  1.63019496,  0.77564779],\n",
       "       [ 0.79805036,  1.53010629,  8.92040109,  1.63005078,  0.77672312],\n",
       "       [ 0.79792922,  1.53004243,  8.9264424 ,  1.6299635 ,  0.77782672],\n",
       "       [ 0.79789083,  1.52993482,  8.93296991,  1.63001308,  0.77929638],\n",
       "       [ 0.79791759,  1.52987779,  8.93895474,  1.63000716,  0.78111929],\n",
       "       [ 0.79797711,  1.52990506,  8.94368525,  1.63001623,  0.78291664],\n",
       "       [ 0.7980025 ,  1.52996281,  8.94979623,  1.6300602 ,  0.78462392],\n",
       "       [ 0.79806724,  1.52998141,  8.9538618 ,  1.63019408,  0.78608403]])"
      ]
     },
     "execution_count": 112,
     "metadata": {},
     "output_type": "execute_result"
    }
   ],
   "source": [
    "lassocv.mse_path_"
   ]
  },
  {
   "cell_type": "code",
   "execution_count": null,
   "id": "80d91aec",
   "metadata": {},
   "outputs": [],
   "source": []
  }
 ],
 "metadata": {
  "kernelspec": {
   "display_name": "Python 3 (ipykernel)",
   "language": "python",
   "name": "python3"
  },
  "language_info": {
   "codemirror_mode": {
    "name": "ipython",
    "version": 3
   },
   "file_extension": ".py",
   "mimetype": "text/x-python",
   "name": "python",
   "nbconvert_exporter": "python",
   "pygments_lexer": "ipython3",
   "version": "3.11.3"
  }
 },
 "nbformat": 4,
 "nbformat_minor": 5
}
